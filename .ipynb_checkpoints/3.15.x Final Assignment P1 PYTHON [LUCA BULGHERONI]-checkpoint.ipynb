{
 "cells": [
  {
   "cell_type": "markdown",
   "id": "2b04dd95-2ffb-4fa1-b4b2-091647abb161",
   "metadata": {
    "id": "2b04dd95-2ffb-4fa1-b4b2-091647abb161"
   },
   "source": [
    "# 3.15.x Final Assignment"
   ]
  },
  {
   "cell_type": "markdown",
   "id": "5a968c9c-628b-42c6-b692-d88b2a1866f4",
   "metadata": {
    "id": "5a968c9c-628b-42c6-b692-d88b2a1866f4"
   },
   "source": [
    "### Assignment Instructions"
   ]
  },
  {
   "cell_type": "markdown",
   "id": "8ba6a2d5-87be-4662-a940-6e9b347a5ae2",
   "metadata": {
    "id": "8ba6a2d5-87be-4662-a940-6e9b347a5ae2"
   },
   "source": [
    "#### Part 1   |   Standard Difficulty Level\n",
    "\n",
    "In this first part, you will be working with a datasets containing information of over 20k Software Professionals with different variables like: \n",
    "\n",
    "- the `Rating` of the company given by the employee,\n",
    "- the `Company Name`, \n",
    "- the `Job Title` of the employee, \n",
    "- the employee `Salary` (in Indian Rupee ₹), \n",
    "- the number of `Salaries Reported`, \n",
    "- the `Location` of the company, \n",
    "- the `Employment Status` and\n",
    "- the category of the `Job Roles` \n",
    "\n",
    "The dataset name is `Software Professionals Salary.xlsx` and you will find it in the `data` folder of this repository. At [this link](https://www.kaggle.com/datasets/iamsouravbanerjee/software-professional-salaries-2022?search=salary) you can find the source of the data (Kaggle) as well as more information on its composition. "
   ]
  },
  {
   "cell_type": "markdown",
   "id": "cd468a65-2fe5-4427-86f5-33dd7d73dc4d",
   "metadata": {
    "id": "cd468a65-2fe5-4427-86f5-33dd7d73dc4d"
   },
   "source": [
    " "
   ]
  },
  {
   "cell_type": "markdown",
   "id": "0d3ea74d-55a1-4236-bd04-9777f1af69de",
   "metadata": {
    "id": "0d3ea74d-55a1-4236-bd04-9777f1af69de"
   },
   "source": [
    "**Setup:** Import the necessary libraries and load the .csv file to a DataFrame named `sps`. Check that all columns have the correct data type. "
   ]
  },
  {
   "cell_type": "code",
   "execution_count": 3,
   "id": "40c3fbf2-54a3-440c-868f-d2509ca27aba",
   "metadata": {
    "id": "40c3fbf2-54a3-440c-868f-d2509ca27aba"
   },
   "outputs": [
    {
     "data": {
      "text/html": [
       "<div>\n",
       "<style scoped>\n",
       "    .dataframe tbody tr th:only-of-type {\n",
       "        vertical-align: middle;\n",
       "    }\n",
       "\n",
       "    .dataframe tbody tr th {\n",
       "        vertical-align: top;\n",
       "    }\n",
       "\n",
       "    .dataframe thead th {\n",
       "        text-align: right;\n",
       "    }\n",
       "</style>\n",
       "<table border=\"1\" class=\"dataframe\">\n",
       "  <thead>\n",
       "    <tr style=\"text-align: right;\">\n",
       "      <th></th>\n",
       "      <th>Rating</th>\n",
       "      <th>Company Name</th>\n",
       "      <th>Job Title</th>\n",
       "      <th>Salary</th>\n",
       "      <th>Salaries Reported</th>\n",
       "      <th>Location</th>\n",
       "      <th>Employment Status</th>\n",
       "      <th>Job Roles</th>\n",
       "    </tr>\n",
       "  </thead>\n",
       "  <tbody>\n",
       "    <tr>\n",
       "      <th>0</th>\n",
       "      <td>3.8</td>\n",
       "      <td>Sasken</td>\n",
       "      <td>Android Developer</td>\n",
       "      <td>400000</td>\n",
       "      <td>3</td>\n",
       "      <td>Bangalore</td>\n",
       "      <td>Full Time</td>\n",
       "      <td>Android</td>\n",
       "    </tr>\n",
       "    <tr>\n",
       "      <th>1</th>\n",
       "      <td>4.5</td>\n",
       "      <td>Advanced Millennium Technologies</td>\n",
       "      <td>Android Developer</td>\n",
       "      <td>400000</td>\n",
       "      <td>3</td>\n",
       "      <td>Bangalore</td>\n",
       "      <td>Full Time</td>\n",
       "      <td>Android</td>\n",
       "    </tr>\n",
       "    <tr>\n",
       "      <th>2</th>\n",
       "      <td>4.0</td>\n",
       "      <td>Unacademy</td>\n",
       "      <td>Android Developer</td>\n",
       "      <td>1000000</td>\n",
       "      <td>3</td>\n",
       "      <td>Bangalore</td>\n",
       "      <td>Full Time</td>\n",
       "      <td>Android</td>\n",
       "    </tr>\n",
       "    <tr>\n",
       "      <th>3</th>\n",
       "      <td>3.8</td>\n",
       "      <td>SnapBizz Cloudtech</td>\n",
       "      <td>Android Developer</td>\n",
       "      <td>300000</td>\n",
       "      <td>3</td>\n",
       "      <td>Bangalore</td>\n",
       "      <td>Full Time</td>\n",
       "      <td>Android</td>\n",
       "    </tr>\n",
       "    <tr>\n",
       "      <th>4</th>\n",
       "      <td>4.4</td>\n",
       "      <td>Appoids Tech Solutions</td>\n",
       "      <td>Android Developer</td>\n",
       "      <td>600000</td>\n",
       "      <td>3</td>\n",
       "      <td>Bangalore</td>\n",
       "      <td>Full Time</td>\n",
       "      <td>Android</td>\n",
       "    </tr>\n",
       "  </tbody>\n",
       "</table>\n",
       "</div>"
      ],
      "text/plain": [
       "   Rating                      Company Name          Job Title   Salary  \\\n",
       "0     3.8                            Sasken  Android Developer   400000   \n",
       "1     4.5  Advanced Millennium Technologies  Android Developer   400000   \n",
       "2     4.0                         Unacademy  Android Developer  1000000   \n",
       "3     3.8                SnapBizz Cloudtech  Android Developer   300000   \n",
       "4     4.4            Appoids Tech Solutions  Android Developer   600000   \n",
       "\n",
       "   Salaries Reported   Location Employment Status Job Roles  \n",
       "0                  3  Bangalore         Full Time   Android  \n",
       "1                  3  Bangalore         Full Time   Android  \n",
       "2                  3  Bangalore         Full Time   Android  \n",
       "3                  3  Bangalore         Full Time   Android  \n",
       "4                  3  Bangalore         Full Time   Android  "
      ]
     },
     "execution_count": 3,
     "metadata": {},
     "output_type": "execute_result"
    }
   ],
   "source": [
    "import pandas as pd\n",
    "import numpy as np\n",
    "import requests\n",
    "\n",
    "%matplotlib inline\n",
    "import matplotlib\n",
    "import matplotlib.pyplot as plt\n",
    "\n",
    "sps = pd.read_excel('data/Software Professionals Salary.xlsx')\n",
    "sps.head()"
   ]
  },
  {
   "cell_type": "markdown",
   "id": "d7e527a1-5129-4008-8db5-6b196be6a7cd",
   "metadata": {
    "id": "d7e527a1-5129-4008-8db5-6b196be6a7cd"
   },
   "source": [
    "1. What is the shape (rows, cols) of the `sps` DataFrame? "
   ]
  },
  {
   "cell_type": "code",
   "execution_count": 4,
   "id": "fd0690a5-11a2-44eb-b501-b92914e30832",
   "metadata": {
    "id": "fd0690a5-11a2-44eb-b501-b92914e30832"
   },
   "outputs": [
    {
     "data": {
      "text/plain": [
       "(22770, 8)"
      ]
     },
     "execution_count": 4,
     "metadata": {},
     "output_type": "execute_result"
    }
   ],
   "source": [
    "sps.shape"
   ]
  },
  {
   "cell_type": "markdown",
   "id": "a80bd554-b444-4335-9841-1c46374abf60",
   "metadata": {
    "id": "a80bd554-b444-4335-9841-1c46374abf60"
   },
   "source": [
    "2. How many unique `Job Roles` are there in the dataset? "
   ]
  },
  {
   "cell_type": "code",
   "execution_count": 5,
   "id": "c4f563b6-dfea-4fc7-8e1a-b33fdcec2454",
   "metadata": {
    "id": "c4f563b6-dfea-4fc7-8e1a-b33fdcec2454"
   },
   "outputs": [
    {
     "data": {
      "text/plain": [
       "array(['Android', 'Backend', 'Database', 'Frontend', 'IOS', 'Java',\n",
       "       'Mobile', 'SDE', 'Python', 'Web', 'Testing'], dtype=object)"
      ]
     },
     "execution_count": 5,
     "metadata": {},
     "output_type": "execute_result"
    }
   ],
   "source": [
    "sps['Job Roles'].unique()"
   ]
  },
  {
   "cell_type": "markdown",
   "id": "3e37f0cb-a461-455c-8c86-3442d453e998",
   "metadata": {
    "id": "3e37f0cb-a461-455c-8c86-3442d453e998"
   },
   "source": [
    "3. How many unique `Job Title` are there for the \"Python\" `Job Role`? "
   ]
  },
  {
   "cell_type": "code",
   "execution_count": 6,
   "id": "e5114fa9-4fee-4835-ba92-dafc05c06275",
   "metadata": {
    "id": "e5114fa9-4fee-4835-ba92-dafc05c06275"
   },
   "outputs": [
    {
     "data": {
      "text/html": [
       "<div>\n",
       "<style scoped>\n",
       "    .dataframe tbody tr th:only-of-type {\n",
       "        vertical-align: middle;\n",
       "    }\n",
       "\n",
       "    .dataframe tbody tr th {\n",
       "        vertical-align: top;\n",
       "    }\n",
       "\n",
       "    .dataframe thead th {\n",
       "        text-align: right;\n",
       "    }\n",
       "</style>\n",
       "<table border=\"1\" class=\"dataframe\">\n",
       "  <thead>\n",
       "    <tr style=\"text-align: right;\">\n",
       "      <th></th>\n",
       "      <th>Rating</th>\n",
       "      <th>Company Name</th>\n",
       "      <th>Job Title</th>\n",
       "      <th>Salary</th>\n",
       "      <th>Salaries Reported</th>\n",
       "      <th>Location</th>\n",
       "      <th>Employment Status</th>\n",
       "      <th>Job Roles</th>\n",
       "    </tr>\n",
       "  </thead>\n",
       "  <tbody>\n",
       "    <tr>\n",
       "      <th>10896</th>\n",
       "      <td>3.9</td>\n",
       "      <td>Tata Consultancy Services</td>\n",
       "      <td>Python Developer</td>\n",
       "      <td>200000</td>\n",
       "      <td>26</td>\n",
       "      <td>Bangalore</td>\n",
       "      <td>Full Time</td>\n",
       "      <td>Python</td>\n",
       "    </tr>\n",
       "    <tr>\n",
       "      <th>10897</th>\n",
       "      <td>3.8</td>\n",
       "      <td>Wipro</td>\n",
       "      <td>Python Developer</td>\n",
       "      <td>200000</td>\n",
       "      <td>10</td>\n",
       "      <td>Bangalore</td>\n",
       "      <td>Full Time</td>\n",
       "      <td>Python</td>\n",
       "    </tr>\n",
       "    <tr>\n",
       "      <th>10898</th>\n",
       "      <td>3.8</td>\n",
       "      <td>Capgemini</td>\n",
       "      <td>Python Developer</td>\n",
       "      <td>300000</td>\n",
       "      <td>9</td>\n",
       "      <td>Bangalore</td>\n",
       "      <td>Full Time</td>\n",
       "      <td>Python</td>\n",
       "    </tr>\n",
       "    <tr>\n",
       "      <th>10899</th>\n",
       "      <td>3.3</td>\n",
       "      <td>Infosys</td>\n",
       "      <td>Python Developer</td>\n",
       "      <td>200000</td>\n",
       "      <td>8</td>\n",
       "      <td>Bangalore</td>\n",
       "      <td>Full Time</td>\n",
       "      <td>Python</td>\n",
       "    </tr>\n",
       "    <tr>\n",
       "      <th>10900</th>\n",
       "      <td>4.1</td>\n",
       "      <td>Fresher</td>\n",
       "      <td>Python Developer</td>\n",
       "      <td>120000</td>\n",
       "      <td>7</td>\n",
       "      <td>Bangalore</td>\n",
       "      <td>Full Time</td>\n",
       "      <td>Python</td>\n",
       "    </tr>\n",
       "    <tr>\n",
       "      <th>...</th>\n",
       "      <td>...</td>\n",
       "      <td>...</td>\n",
       "      <td>...</td>\n",
       "      <td>...</td>\n",
       "      <td>...</td>\n",
       "      <td>...</td>\n",
       "      <td>...</td>\n",
       "      <td>...</td>\n",
       "    </tr>\n",
       "    <tr>\n",
       "      <th>11857</th>\n",
       "      <td>4.9</td>\n",
       "      <td>Datalysys</td>\n",
       "      <td>Python/Data Engineer</td>\n",
       "      <td>400000</td>\n",
       "      <td>1</td>\n",
       "      <td>Hyderabad</td>\n",
       "      <td>Full Time</td>\n",
       "      <td>Python</td>\n",
       "    </tr>\n",
       "    <tr>\n",
       "      <th>11858</th>\n",
       "      <td>4.1</td>\n",
       "      <td>Innvectra Info Solutions</td>\n",
       "      <td>Python Developer/Nodejs Developer</td>\n",
       "      <td>800000</td>\n",
       "      <td>1</td>\n",
       "      <td>Hyderabad</td>\n",
       "      <td>Full Time</td>\n",
       "      <td>Python</td>\n",
       "    </tr>\n",
       "    <tr>\n",
       "      <th>11859</th>\n",
       "      <td>3.3</td>\n",
       "      <td>PUJA DENTAL GROUP</td>\n",
       "      <td>C and Python Developer</td>\n",
       "      <td>216000</td>\n",
       "      <td>1</td>\n",
       "      <td>Hyderabad</td>\n",
       "      <td>Full Time</td>\n",
       "      <td>Python</td>\n",
       "    </tr>\n",
       "    <tr>\n",
       "      <th>11860</th>\n",
       "      <td>4.1</td>\n",
       "      <td>IBM</td>\n",
       "      <td>Python and Shell Scripting Developer</td>\n",
       "      <td>700000</td>\n",
       "      <td>1</td>\n",
       "      <td>Hyderabad</td>\n",
       "      <td>Full Time</td>\n",
       "      <td>Python</td>\n",
       "    </tr>\n",
       "    <tr>\n",
       "      <th>11862</th>\n",
       "      <td>4.4</td>\n",
       "      <td>Microsoft</td>\n",
       "      <td>Ethical Hacking and Python</td>\n",
       "      <td>936000</td>\n",
       "      <td>1</td>\n",
       "      <td>Hyderabad</td>\n",
       "      <td>Full Time</td>\n",
       "      <td>Python</td>\n",
       "    </tr>\n",
       "  </tbody>\n",
       "</table>\n",
       "<p>947 rows × 8 columns</p>\n",
       "</div>"
      ],
      "text/plain": [
       "       Rating               Company Name  \\\n",
       "10896     3.9  Tata Consultancy Services   \n",
       "10897     3.8                      Wipro   \n",
       "10898     3.8                  Capgemini   \n",
       "10899     3.3                    Infosys   \n",
       "10900     4.1                    Fresher   \n",
       "...       ...                        ...   \n",
       "11857     4.9                  Datalysys   \n",
       "11858     4.1   Innvectra Info Solutions   \n",
       "11859     3.3          PUJA DENTAL GROUP   \n",
       "11860     4.1                        IBM   \n",
       "11862     4.4                  Microsoft   \n",
       "\n",
       "                                  Job Title  Salary  Salaries Reported  \\\n",
       "10896                      Python Developer  200000                 26   \n",
       "10897                      Python Developer  200000                 10   \n",
       "10898                      Python Developer  300000                  9   \n",
       "10899                      Python Developer  200000                  8   \n",
       "10900                      Python Developer  120000                  7   \n",
       "...                                     ...     ...                ...   \n",
       "11857                  Python/Data Engineer  400000                  1   \n",
       "11858     Python Developer/Nodejs Developer  800000                  1   \n",
       "11859                C and Python Developer  216000                  1   \n",
       "11860  Python and Shell Scripting Developer  700000                  1   \n",
       "11862            Ethical Hacking and Python  936000                  1   \n",
       "\n",
       "        Location Employment Status Job Roles  \n",
       "10896  Bangalore         Full Time    Python  \n",
       "10897  Bangalore         Full Time    Python  \n",
       "10898  Bangalore         Full Time    Python  \n",
       "10899  Bangalore         Full Time    Python  \n",
       "10900  Bangalore         Full Time    Python  \n",
       "...          ...               ...       ...  \n",
       "11857  Hyderabad         Full Time    Python  \n",
       "11858  Hyderabad         Full Time    Python  \n",
       "11859  Hyderabad         Full Time    Python  \n",
       "11860  Hyderabad         Full Time    Python  \n",
       "11862  Hyderabad         Full Time    Python  \n",
       "\n",
       "[947 rows x 8 columns]"
      ]
     },
     "execution_count": 6,
     "metadata": {},
     "output_type": "execute_result"
    }
   ],
   "source": [
    "sps_2 = sps[sps[\"Job Roles\"] == \"Python\"]\n",
    "sps_2"
   ]
  },
  {
   "cell_type": "code",
   "execution_count": 7,
   "id": "e726888d-c7fc-49e9-943c-5a1fbcbc83b1",
   "metadata": {},
   "outputs": [
    {
     "data": {
      "text/plain": [
       "array(['Python Developer', 'Python Developer - Intern',\n",
       "       'Python Developer - Contractor', 'Python Developer Contractor',\n",
       "       'Senior Python Developer', 'Junior Python Developer',\n",
       "       'Python/Django Developer', 'Systems Developer/Python Developer',\n",
       "       'Python', 'Python Programmer',\n",
       "       'Senior Python Developer - Contractor',\n",
       "       'Junior Python Developer - Intern',\n",
       "       'Junior Python Developer Contractor',\n",
       "       'Python/Django Developer - Intern',\n",
       "       'Python/Django Developer - Contractor',\n",
       "       'Systems Developer/Python Developer - Intern',\n",
       "       'Python/Odoo Developer', 'Python Programmer - Intern',\n",
       "       'Python Full Stack Developer',\n",
       "       'Python Full Stack Developer - Intern',\n",
       "       'Full Stack Python Developer', 'Python Engineer',\n",
       "       'Junior Python/Django Developer', 'Python Web Developer',\n",
       "       'Middle Python Developer', 'Lead Python Developer',\n",
       "       'As A Python Developer', 'Python AI Developer',\n",
       "       'Python AI Developer - Intern', 'Jr Python Developer',\n",
       "       'Senior Python Engineer', 'Python Developer, Data Science',\n",
       "       'Python (AI/Ml) Developer', 'Python Automation Engineer',\n",
       "       'Python Automation Engineer - Contractor',\n",
       "       'Back-end Developer (Python Django)', 'Python ML Developer',\n",
       "       'Python Lead Developer', 'Python Trainee',\n",
       "       'Good Scope As A Python Developer',\n",
       "       'Good Scope As A Python Developer - Contractor', 'Python Trainer',\n",
       "       'Python AWS Developer', 'Python Instructor',\n",
       "       'Associate Python Developer', 'Web Developer, Python Developer',\n",
       "       'Python Fresher', 'Python Automation QA - Contractor',\n",
       "       'Python Automation QA', 'Python Analyst',\n",
       "       'ETL Data engineer Python',\n",
       "       'Python Django Developer Trainee - Intern',\n",
       "       'Python Automation Tester - Contractor',\n",
       "       'Python Automation - Intern', 'Python Data scientist',\n",
       "       'Python Development - Intern', 'Python Test Engineer',\n",
       "       'Python Tester/Programmer', '.NET Developer, Python', 'Python QA',\n",
       "       'Python/Pyspark', 'Python Developer/Plsql Developer',\n",
       "       'React Native and Python Developer - Intern',\n",
       "       'Python DeveloperPosition - Intern', 'Python Freelance Trainer',\n",
       "       'Python Testing and Debugging',\n",
       "       'Python and Machine Learning Analyst', 'Embedded Python Engineer',\n",
       "       'Python/Django Developer Contractor',\n",
       "       'Python Programmer Contractor', 'Python Junior Developer',\n",
       "       'Python Developer Trainee', 'Python - Internee',\n",
       "       'Python - Internee - Intern', 'Python and Iot Developer',\n",
       "       'Trainee Junior Python Developer', 'Python Developer Fresher',\n",
       "       'Senior Python Programmer',\n",
       "       'Technology Analyst - Python Developer',\n",
       "       'Applications Developer/Python Developer',\n",
       "       'Python Automation Tester', 'Python Engineer/DevOps',\n",
       "       'ML Developer Python NLP', 'C Developer, Python Developer',\n",
       "       'Python Content Developer', 'Lead Python Developer (Data Science)',\n",
       "       'Hadoop, Python, Jsp Servlet, C++ Developer - Intern',\n",
       "       'Python Content Development In IIT Madras Online Degree',\n",
       "       'Lead Engineer - Python',\n",
       "       'Systems Developer/Python Developer - Contractor',\n",
       "       'Python Full Stack Developer - Contractor',\n",
       "       'Full Stack Python Developer Contractor',\n",
       "       'Python Engineer - Intern', 'Advanced Python Developer',\n",
       "       'Python Senior Developer', 'Python Bigdata Engineer',\n",
       "       'Python Devolper', 'Python/Data Engineer',\n",
       "       'Python Developer/Nodejs Developer', 'C and Python Developer',\n",
       "       'Python and Shell Scripting Developer',\n",
       "       'Ethical Hacking and Python'], dtype=object)"
      ]
     },
     "execution_count": 7,
     "metadata": {},
     "output_type": "execute_result"
    }
   ],
   "source": [
    "#Faccio emergere tutte le posizioni uniche per Job Title che sono incluse nella Job Role di Python\n",
    "pd.unique(sps_2['Job Title'])"
   ]
  },
  {
   "cell_type": "code",
   "execution_count": 8,
   "id": "2d2d123b-5b0a-4dcb-833c-b7ba9bb1645f",
   "metadata": {},
   "outputs": [
    {
     "data": {
      "text/plain": [
       "102"
      ]
     },
     "execution_count": 8,
     "metadata": {},
     "output_type": "execute_result"
    }
   ],
   "source": [
    "'''Verifico il numero delle posizioni uniche Job Title; vedo che in un totale di 947 posizioni aperte \n",
    "   per Python (come Job Role) ci sono alcune Job Title che si ripetono..prese singolarmente infatti le \n",
    "   Job Title sono 102'''\n",
    "\n",
    "pd.unique(sps_2['Job Title']).size\n",
    "\n",
    "#oppure avrei potuto fare cosi: \n",
    "#sps_2.nunique()"
   ]
  },
  {
   "cell_type": "markdown",
   "id": "a17fcd33-da70-4d95-b6ef-db5a5691924f",
   "metadata": {
    "id": "a17fcd33-da70-4d95-b6ef-db5a5691924f"
   },
   "source": [
    "4. Of the `Company Name`s that are listed in the DataFrame, **how many** have a \"Python\" `Job Role` with a `Job Title` containing the **substring** \"Analyst\"?"
   ]
  },
  {
   "cell_type": "code",
   "execution_count": 9,
   "id": "4467d1df-0b2a-4364-a946-78ad61790bfb",
   "metadata": {},
   "outputs": [
    {
     "data": {
      "text/plain": [
       "True"
      ]
     },
     "execution_count": 9,
     "metadata": {},
     "output_type": "execute_result"
    }
   ],
   "source": [
    "#to check if any company with Job Role = Python has even the Job Title containing the word 'Analyst'\n",
    "sps_2\n",
    "sps_2['Job Title'].str.contains('Analyst').any()"
   ]
  },
  {
   "cell_type": "code",
   "execution_count": 10,
   "id": "6979be58-8966-4556-9c19-ad671138607e",
   "metadata": {},
   "outputs": [
    {
     "data": {
      "text/plain": [
       "3"
      ]
     },
     "execution_count": 10,
     "metadata": {},
     "output_type": "execute_result"
    }
   ],
   "source": [
    "#to check how many company with Job Role = Python has even the Job Title containing the word 'Analyst'\n",
    "sps_2['Job Title'].str.contains('Analyst').sum()\n"
   ]
  },
  {
   "cell_type": "code",
   "execution_count": 11,
   "id": "dfb0b731-a350-475a-b8fc-e010faa421bb",
   "metadata": {},
   "outputs": [
    {
     "data": {
      "text/plain": [
       "11352        Ocwen Financial\n",
       "11371    TrioHats Consulting\n",
       "11541                Infosys\n",
       "Name: Company Name, dtype: object"
      ]
     },
     "execution_count": 11,
     "metadata": {},
     "output_type": "execute_result"
    }
   ],
   "source": [
    "#verifico quali sono quelle 3 compagnie che contengono la substring \"Analyst\" per Job Role = Python\n",
    "sps_2[sps_2['Job Title'].str.contains('Analyst')]['Company Name']"
   ]
  },
  {
   "cell_type": "code",
   "execution_count": 12,
   "id": "1723b7a5-4f71-42c4-8c71-6cbeaa1f808e",
   "metadata": {},
   "outputs": [
    {
     "data": {
      "text/html": [
       "<div>\n",
       "<style scoped>\n",
       "    .dataframe tbody tr th:only-of-type {\n",
       "        vertical-align: middle;\n",
       "    }\n",
       "\n",
       "    .dataframe tbody tr th {\n",
       "        vertical-align: top;\n",
       "    }\n",
       "\n",
       "    .dataframe thead th {\n",
       "        text-align: right;\n",
       "    }\n",
       "</style>\n",
       "<table border=\"1\" class=\"dataframe\">\n",
       "  <thead>\n",
       "    <tr style=\"text-align: right;\">\n",
       "      <th></th>\n",
       "      <th>Rating</th>\n",
       "      <th>Company Name</th>\n",
       "      <th>Job Title</th>\n",
       "      <th>Salary</th>\n",
       "      <th>Salaries Reported</th>\n",
       "      <th>Location</th>\n",
       "      <th>Employment Status</th>\n",
       "      <th>Job Roles</th>\n",
       "    </tr>\n",
       "  </thead>\n",
       "  <tbody>\n",
       "    <tr>\n",
       "      <th>10896</th>\n",
       "      <td>3.9</td>\n",
       "      <td>Tata Consultancy Services</td>\n",
       "      <td>Python Developer</td>\n",
       "      <td>200000</td>\n",
       "      <td>26</td>\n",
       "      <td>Bangalore</td>\n",
       "      <td>Full Time</td>\n",
       "      <td>Python</td>\n",
       "    </tr>\n",
       "    <tr>\n",
       "      <th>10897</th>\n",
       "      <td>3.8</td>\n",
       "      <td>Wipro</td>\n",
       "      <td>Python Developer</td>\n",
       "      <td>200000</td>\n",
       "      <td>10</td>\n",
       "      <td>Bangalore</td>\n",
       "      <td>Full Time</td>\n",
       "      <td>Python</td>\n",
       "    </tr>\n",
       "    <tr>\n",
       "      <th>10898</th>\n",
       "      <td>3.8</td>\n",
       "      <td>Capgemini</td>\n",
       "      <td>Python Developer</td>\n",
       "      <td>300000</td>\n",
       "      <td>9</td>\n",
       "      <td>Bangalore</td>\n",
       "      <td>Full Time</td>\n",
       "      <td>Python</td>\n",
       "    </tr>\n",
       "    <tr>\n",
       "      <th>10899</th>\n",
       "      <td>3.3</td>\n",
       "      <td>Infosys</td>\n",
       "      <td>Python Developer</td>\n",
       "      <td>200000</td>\n",
       "      <td>8</td>\n",
       "      <td>Bangalore</td>\n",
       "      <td>Full Time</td>\n",
       "      <td>Python</td>\n",
       "    </tr>\n",
       "    <tr>\n",
       "      <th>10900</th>\n",
       "      <td>4.1</td>\n",
       "      <td>Fresher</td>\n",
       "      <td>Python Developer</td>\n",
       "      <td>120000</td>\n",
       "      <td>7</td>\n",
       "      <td>Bangalore</td>\n",
       "      <td>Full Time</td>\n",
       "      <td>Python</td>\n",
       "    </tr>\n",
       "  </tbody>\n",
       "</table>\n",
       "</div>"
      ],
      "text/plain": [
       "       Rating               Company Name         Job Title  Salary  \\\n",
       "10896     3.9  Tata Consultancy Services  Python Developer  200000   \n",
       "10897     3.8                      Wipro  Python Developer  200000   \n",
       "10898     3.8                  Capgemini  Python Developer  300000   \n",
       "10899     3.3                    Infosys  Python Developer  200000   \n",
       "10900     4.1                    Fresher  Python Developer  120000   \n",
       "\n",
       "       Salaries Reported   Location Employment Status Job Roles  \n",
       "10896                 26  Bangalore         Full Time    Python  \n",
       "10897                 10  Bangalore         Full Time    Python  \n",
       "10898                  9  Bangalore         Full Time    Python  \n",
       "10899                  8  Bangalore         Full Time    Python  \n",
       "10900                  7  Bangalore         Full Time    Python  "
      ]
     },
     "execution_count": 12,
     "metadata": {},
     "output_type": "execute_result"
    }
   ],
   "source": [
    "sps_2.head()"
   ]
  },
  {
   "cell_type": "markdown",
   "id": "f2110f33-71b5-4537-9aee-514f96c06a23",
   "metadata": {
    "id": "f2110f33-71b5-4537-9aee-514f96c06a23"
   },
   "source": [
    "5. Which `Company Name` has the highest number of `Salaries Reported` (across all `Job Title`s)?"
   ]
  },
  {
   "cell_type": "code",
   "execution_count": 13,
   "id": "0cd9baa9-897f-41b2-a062-a15d1bad566a",
   "metadata": {
    "id": "0cd9baa9-897f-41b2-a062-a15d1bad566a"
   },
   "outputs": [
    {
     "data": {
      "text/html": [
       "<div>\n",
       "<style scoped>\n",
       "    .dataframe tbody tr th:only-of-type {\n",
       "        vertical-align: middle;\n",
       "    }\n",
       "\n",
       "    .dataframe tbody tr th {\n",
       "        vertical-align: top;\n",
       "    }\n",
       "\n",
       "    .dataframe thead th {\n",
       "        text-align: right;\n",
       "    }\n",
       "</style>\n",
       "<table border=\"1\" class=\"dataframe\">\n",
       "  <thead>\n",
       "    <tr style=\"text-align: right;\">\n",
       "      <th></th>\n",
       "      <th>Company Name</th>\n",
       "      <th>Salaries Reported</th>\n",
       "    </tr>\n",
       "  </thead>\n",
       "  <tbody>\n",
       "    <tr>\n",
       "      <th>660</th>\n",
       "      <td>Amazon</td>\n",
       "      <td>2636</td>\n",
       "    </tr>\n",
       "  </tbody>\n",
       "</table>\n",
       "</div>"
      ],
      "text/plain": [
       "    Company Name  Salaries Reported\n",
       "660       Amazon               2636"
      ]
     },
     "execution_count": 13,
     "metadata": {},
     "output_type": "execute_result"
    }
   ],
   "source": [
    "sps.groupby('Company Name', as_index=False)['Salaries Reported'].sum().sort_values('Salaries Reported', ascending=False).head(1)"
   ]
  },
  {
   "cell_type": "markdown",
   "id": "902fbf21-180a-44de-81e4-50457980c762",
   "metadata": {
    "id": "902fbf21-180a-44de-81e4-50457980c762"
   },
   "source": [
    "6. Given the `Company Name` you found at the previous question, how many `Location`s is this company present in? "
   ]
  },
  {
   "cell_type": "code",
   "execution_count": 14,
   "id": "c9a382c1-51cb-462f-afac-e7ae222edc7b",
   "metadata": {},
   "outputs": [
    {
     "data": {
      "text/html": [
       "<div>\n",
       "<style scoped>\n",
       "    .dataframe tbody tr th:only-of-type {\n",
       "        vertical-align: middle;\n",
       "    }\n",
       "\n",
       "    .dataframe tbody tr th {\n",
       "        vertical-align: top;\n",
       "    }\n",
       "\n",
       "    .dataframe thead th {\n",
       "        text-align: right;\n",
       "    }\n",
       "</style>\n",
       "<table border=\"1\" class=\"dataframe\">\n",
       "  <thead>\n",
       "    <tr style=\"text-align: right;\">\n",
       "      <th></th>\n",
       "      <th>Rating</th>\n",
       "      <th>Company Name</th>\n",
       "      <th>Job Title</th>\n",
       "      <th>Salary</th>\n",
       "      <th>Salaries Reported</th>\n",
       "      <th>Location</th>\n",
       "      <th>Employment Status</th>\n",
       "      <th>Job Roles</th>\n",
       "    </tr>\n",
       "  </thead>\n",
       "  <tbody>\n",
       "    <tr>\n",
       "      <th>153</th>\n",
       "      <td>3.8</td>\n",
       "      <td>Amazon</td>\n",
       "      <td>Android Developer</td>\n",
       "      <td>228000</td>\n",
       "      <td>1</td>\n",
       "      <td>Bangalore</td>\n",
       "      <td>Full Time</td>\n",
       "      <td>Android</td>\n",
       "    </tr>\n",
       "    <tr>\n",
       "      <th>294</th>\n",
       "      <td>3.8</td>\n",
       "      <td>Amazon</td>\n",
       "      <td>Android Developer</td>\n",
       "      <td>300000</td>\n",
       "      <td>1</td>\n",
       "      <td>Bangalore</td>\n",
       "      <td>Full Time</td>\n",
       "      <td>Android</td>\n",
       "    </tr>\n",
       "    <tr>\n",
       "      <th>1455</th>\n",
       "      <td>3.8</td>\n",
       "      <td>Amazon</td>\n",
       "      <td>Android Software Engineer</td>\n",
       "      <td>624000</td>\n",
       "      <td>1</td>\n",
       "      <td>Hyderabad</td>\n",
       "      <td>Full Time</td>\n",
       "      <td>Android</td>\n",
       "    </tr>\n",
       "    <tr>\n",
       "      <th>1973</th>\n",
       "      <td>3.8</td>\n",
       "      <td>Amazon</td>\n",
       "      <td>Android Developer - Intern</td>\n",
       "      <td>984000</td>\n",
       "      <td>1</td>\n",
       "      <td>New Delhi</td>\n",
       "      <td>Intern</td>\n",
       "      <td>Android</td>\n",
       "    </tr>\n",
       "    <tr>\n",
       "      <th>2030</th>\n",
       "      <td>3.8</td>\n",
       "      <td>Amazon</td>\n",
       "      <td>Android Developer</td>\n",
       "      <td>1900000</td>\n",
       "      <td>1</td>\n",
       "      <td>New Delhi</td>\n",
       "      <td>Full Time</td>\n",
       "      <td>Android</td>\n",
       "    </tr>\n",
       "    <tr>\n",
       "      <th>...</th>\n",
       "      <td>...</td>\n",
       "      <td>...</td>\n",
       "      <td>...</td>\n",
       "      <td>...</td>\n",
       "      <td>...</td>\n",
       "      <td>...</td>\n",
       "      <td>...</td>\n",
       "      <td>...</td>\n",
       "    </tr>\n",
       "    <tr>\n",
       "      <th>20768</th>\n",
       "      <td>3.8</td>\n",
       "      <td>Amazon</td>\n",
       "      <td>Tester</td>\n",
       "      <td>500000</td>\n",
       "      <td>2</td>\n",
       "      <td>Hyderabad</td>\n",
       "      <td>Full Time</td>\n",
       "      <td>Testing</td>\n",
       "    </tr>\n",
       "    <tr>\n",
       "      <th>20829</th>\n",
       "      <td>3.8</td>\n",
       "      <td>Amazon</td>\n",
       "      <td>Test Engineer</td>\n",
       "      <td>300000</td>\n",
       "      <td>5</td>\n",
       "      <td>Bangalore</td>\n",
       "      <td>Full Time</td>\n",
       "      <td>Testing</td>\n",
       "    </tr>\n",
       "    <tr>\n",
       "      <th>21733</th>\n",
       "      <td>3.8</td>\n",
       "      <td>Amazon</td>\n",
       "      <td>Software Development Engineer In Test (SDET)</td>\n",
       "      <td>300000</td>\n",
       "      <td>36</td>\n",
       "      <td>Bangalore</td>\n",
       "      <td>Full Time</td>\n",
       "      <td>SDE</td>\n",
       "    </tr>\n",
       "    <tr>\n",
       "      <th>21782</th>\n",
       "      <td>3.8</td>\n",
       "      <td>Amazon</td>\n",
       "      <td>Web Developer</td>\n",
       "      <td>100000</td>\n",
       "      <td>8</td>\n",
       "      <td>Bangalore</td>\n",
       "      <td>Full Time</td>\n",
       "      <td>Web</td>\n",
       "    </tr>\n",
       "    <tr>\n",
       "      <th>21867</th>\n",
       "      <td>3.8</td>\n",
       "      <td>Amazon</td>\n",
       "      <td>Web Developer - Intern</td>\n",
       "      <td>552000</td>\n",
       "      <td>2</td>\n",
       "      <td>Bangalore</td>\n",
       "      <td>Intern</td>\n",
       "      <td>Web</td>\n",
       "    </tr>\n",
       "  </tbody>\n",
       "</table>\n",
       "<p>184 rows × 8 columns</p>\n",
       "</div>"
      ],
      "text/plain": [
       "       Rating Company Name                                     Job Title  \\\n",
       "153       3.8       Amazon                             Android Developer   \n",
       "294       3.8       Amazon                             Android Developer   \n",
       "1455      3.8       Amazon                     Android Software Engineer   \n",
       "1973      3.8       Amazon                    Android Developer - Intern   \n",
       "2030      3.8       Amazon                             Android Developer   \n",
       "...       ...          ...                                           ...   \n",
       "20768     3.8       Amazon                                        Tester   \n",
       "20829     3.8       Amazon                                 Test Engineer   \n",
       "21733     3.8       Amazon  Software Development Engineer In Test (SDET)   \n",
       "21782     3.8       Amazon                                 Web Developer   \n",
       "21867     3.8       Amazon                        Web Developer - Intern   \n",
       "\n",
       "        Salary  Salaries Reported   Location Employment Status Job Roles  \n",
       "153     228000                  1  Bangalore         Full Time   Android  \n",
       "294     300000                  1  Bangalore         Full Time   Android  \n",
       "1455    624000                  1  Hyderabad         Full Time   Android  \n",
       "1973    984000                  1  New Delhi            Intern   Android  \n",
       "2030   1900000                  1  New Delhi         Full Time   Android  \n",
       "...        ...                ...        ...               ...       ...  \n",
       "20768   500000                  2  Hyderabad         Full Time   Testing  \n",
       "20829   300000                  5  Bangalore         Full Time   Testing  \n",
       "21733   300000                 36  Bangalore         Full Time       SDE  \n",
       "21782   100000                  8  Bangalore         Full Time       Web  \n",
       "21867   552000                  2  Bangalore            Intern       Web  \n",
       "\n",
       "[184 rows x 8 columns]"
      ]
     },
     "execution_count": 14,
     "metadata": {},
     "output_type": "execute_result"
    }
   ],
   "source": [
    "sps_3 = sps[sps[\"Company Name\"] == \"Amazon\"]\n",
    "sps_3"
   ]
  },
  {
   "cell_type": "code",
   "execution_count": 15,
   "id": "36363f7a-12d9-4e74-ae8d-c5c737efaa28",
   "metadata": {},
   "outputs": [
    {
     "data": {
      "text/plain": [
       "array(['Bangalore', 'Hyderabad', 'New Delhi', 'Chennai', 'Jaipur',\n",
       "       'Kolkata', 'Madhya Pradesh', 'Mumbai', 'Pune'], dtype=object)"
      ]
     },
     "execution_count": 15,
     "metadata": {},
     "output_type": "execute_result"
    }
   ],
   "source": [
    "pd.unique(sps_3['Location'])"
   ]
  },
  {
   "cell_type": "code",
   "execution_count": 16,
   "id": "06434151-a5a3-4ed0-9636-af9f73183d44",
   "metadata": {},
   "outputs": [
    {
     "data": {
      "text/plain": [
       "9"
      ]
     },
     "execution_count": 16,
     "metadata": {},
     "output_type": "execute_result"
    }
   ],
   "source": [
    "sps_3['Location'].nunique()"
   ]
  },
  {
   "cell_type": "markdown",
   "id": "dee41965-0db4-446d-bf20-174898462a8d",
   "metadata": {
    "id": "dee41965-0db4-446d-bf20-174898462a8d"
   },
   "source": [
    "7. As you may have noticed, the `Salary` is reported in Indian Rupees (ISO code: INR). Using the [Open Access Endpoint](https://www.exchangerate-api.com/docs/free) (no API Key required) of the ExchangeRate-API service, create a new column named `Salary USD` containing the salary-equivalent in USD and round the result to zero decimals. What is the conversion rate between USD-INR at the time of your execution? *Note: of course, this result will change in time*"
   ]
  },
  {
   "cell_type": "code",
   "execution_count": 17,
   "id": "bab08d9b-ac6c-4ae6-a6fe-1efded5e4bab",
   "metadata": {
    "id": "bab08d9b-ac6c-4ae6-a6fe-1efded5e4bab"
   },
   "outputs": [
    {
     "name": "stdout",
     "output_type": "stream",
     "text": [
      "0.012073\n"
     ]
    }
   ],
   "source": [
    "#faccio una richiesta API per richiamare il tasso di cambio USD INR giornaliero\n",
    "\n",
    "url = 'https://open.er-api.com/v6/latest/INR'\n",
    "r = requests.get(url)\n",
    "usd_inr = r.json()['rates']['USD']\n",
    "print(usd_inr)"
   ]
  },
  {
   "cell_type": "code",
   "execution_count": 18,
   "id": "d1bcd8c7-8ee8-4f20-8f1a-88c3098db2e7",
   "metadata": {},
   "outputs": [
    {
     "data": {
      "text/html": [
       "<div>\n",
       "<style scoped>\n",
       "    .dataframe tbody tr th:only-of-type {\n",
       "        vertical-align: middle;\n",
       "    }\n",
       "\n",
       "    .dataframe tbody tr th {\n",
       "        vertical-align: top;\n",
       "    }\n",
       "\n",
       "    .dataframe thead th {\n",
       "        text-align: right;\n",
       "    }\n",
       "</style>\n",
       "<table border=\"1\" class=\"dataframe\">\n",
       "  <thead>\n",
       "    <tr style=\"text-align: right;\">\n",
       "      <th></th>\n",
       "      <th>Rating</th>\n",
       "      <th>Company Name</th>\n",
       "      <th>Job Title</th>\n",
       "      <th>Salary</th>\n",
       "      <th>Salaries Reported</th>\n",
       "      <th>Location</th>\n",
       "      <th>Employment Status</th>\n",
       "      <th>Job Roles</th>\n",
       "      <th>Salary USD</th>\n",
       "    </tr>\n",
       "  </thead>\n",
       "  <tbody>\n",
       "    <tr>\n",
       "      <th>0</th>\n",
       "      <td>3.8</td>\n",
       "      <td>Sasken</td>\n",
       "      <td>Android Developer</td>\n",
       "      <td>400000</td>\n",
       "      <td>3</td>\n",
       "      <td>Bangalore</td>\n",
       "      <td>Full Time</td>\n",
       "      <td>Android</td>\n",
       "      <td>4829.200</td>\n",
       "    </tr>\n",
       "    <tr>\n",
       "      <th>1</th>\n",
       "      <td>4.5</td>\n",
       "      <td>Advanced Millennium Technologies</td>\n",
       "      <td>Android Developer</td>\n",
       "      <td>400000</td>\n",
       "      <td>3</td>\n",
       "      <td>Bangalore</td>\n",
       "      <td>Full Time</td>\n",
       "      <td>Android</td>\n",
       "      <td>4829.200</td>\n",
       "    </tr>\n",
       "    <tr>\n",
       "      <th>2</th>\n",
       "      <td>4.0</td>\n",
       "      <td>Unacademy</td>\n",
       "      <td>Android Developer</td>\n",
       "      <td>1000000</td>\n",
       "      <td>3</td>\n",
       "      <td>Bangalore</td>\n",
       "      <td>Full Time</td>\n",
       "      <td>Android</td>\n",
       "      <td>12073.000</td>\n",
       "    </tr>\n",
       "    <tr>\n",
       "      <th>3</th>\n",
       "      <td>3.8</td>\n",
       "      <td>SnapBizz Cloudtech</td>\n",
       "      <td>Android Developer</td>\n",
       "      <td>300000</td>\n",
       "      <td>3</td>\n",
       "      <td>Bangalore</td>\n",
       "      <td>Full Time</td>\n",
       "      <td>Android</td>\n",
       "      <td>3621.900</td>\n",
       "    </tr>\n",
       "    <tr>\n",
       "      <th>4</th>\n",
       "      <td>4.4</td>\n",
       "      <td>Appoids Tech Solutions</td>\n",
       "      <td>Android Developer</td>\n",
       "      <td>600000</td>\n",
       "      <td>3</td>\n",
       "      <td>Bangalore</td>\n",
       "      <td>Full Time</td>\n",
       "      <td>Android</td>\n",
       "      <td>7243.800</td>\n",
       "    </tr>\n",
       "    <tr>\n",
       "      <th>...</th>\n",
       "      <td>...</td>\n",
       "      <td>...</td>\n",
       "      <td>...</td>\n",
       "      <td>...</td>\n",
       "      <td>...</td>\n",
       "      <td>...</td>\n",
       "      <td>...</td>\n",
       "      <td>...</td>\n",
       "      <td>...</td>\n",
       "    </tr>\n",
       "    <tr>\n",
       "      <th>22765</th>\n",
       "      <td>4.7</td>\n",
       "      <td>Expert Solutions</td>\n",
       "      <td>Web Developer</td>\n",
       "      <td>200000</td>\n",
       "      <td>1</td>\n",
       "      <td>Bangalore</td>\n",
       "      <td>Full Time</td>\n",
       "      <td>Web</td>\n",
       "      <td>2414.600</td>\n",
       "    </tr>\n",
       "    <tr>\n",
       "      <th>22766</th>\n",
       "      <td>4.0</td>\n",
       "      <td>Nextgen Innovation Labs</td>\n",
       "      <td>Web Developer</td>\n",
       "      <td>300000</td>\n",
       "      <td>1</td>\n",
       "      <td>Bangalore</td>\n",
       "      <td>Full Time</td>\n",
       "      <td>Web</td>\n",
       "      <td>3621.900</td>\n",
       "    </tr>\n",
       "    <tr>\n",
       "      <th>22767</th>\n",
       "      <td>4.1</td>\n",
       "      <td>Fresher</td>\n",
       "      <td>Full Stack Web Developer</td>\n",
       "      <td>192000</td>\n",
       "      <td>13</td>\n",
       "      <td>Bangalore</td>\n",
       "      <td>Full Time</td>\n",
       "      <td>Web</td>\n",
       "      <td>2318.016</td>\n",
       "    </tr>\n",
       "    <tr>\n",
       "      <th>22768</th>\n",
       "      <td>4.1</td>\n",
       "      <td>Accenture</td>\n",
       "      <td>Full Stack Web Developer</td>\n",
       "      <td>300000</td>\n",
       "      <td>7</td>\n",
       "      <td>Bangalore</td>\n",
       "      <td>Full Time</td>\n",
       "      <td>Web</td>\n",
       "      <td>3621.900</td>\n",
       "    </tr>\n",
       "    <tr>\n",
       "      <th>22769</th>\n",
       "      <td>3.8</td>\n",
       "      <td>Thomson Reuters</td>\n",
       "      <td>Associate Web Developer</td>\n",
       "      <td>300000</td>\n",
       "      <td>7</td>\n",
       "      <td>Bangalore</td>\n",
       "      <td>Full Time</td>\n",
       "      <td>Web</td>\n",
       "      <td>3621.900</td>\n",
       "    </tr>\n",
       "  </tbody>\n",
       "</table>\n",
       "<p>22770 rows × 9 columns</p>\n",
       "</div>"
      ],
      "text/plain": [
       "       Rating                      Company Name                 Job Title  \\\n",
       "0         3.8                            Sasken         Android Developer   \n",
       "1         4.5  Advanced Millennium Technologies         Android Developer   \n",
       "2         4.0                         Unacademy         Android Developer   \n",
       "3         3.8                SnapBizz Cloudtech         Android Developer   \n",
       "4         4.4            Appoids Tech Solutions         Android Developer   \n",
       "...       ...                               ...                       ...   \n",
       "22765     4.7                  Expert Solutions             Web Developer   \n",
       "22766     4.0           Nextgen Innovation Labs             Web Developer   \n",
       "22767     4.1                           Fresher  Full Stack Web Developer   \n",
       "22768     4.1                         Accenture  Full Stack Web Developer   \n",
       "22769     3.8                   Thomson Reuters   Associate Web Developer   \n",
       "\n",
       "        Salary  Salaries Reported   Location Employment Status Job Roles  \\\n",
       "0       400000                  3  Bangalore         Full Time   Android   \n",
       "1       400000                  3  Bangalore         Full Time   Android   \n",
       "2      1000000                  3  Bangalore         Full Time   Android   \n",
       "3       300000                  3  Bangalore         Full Time   Android   \n",
       "4       600000                  3  Bangalore         Full Time   Android   \n",
       "...        ...                ...        ...               ...       ...   \n",
       "22765   200000                  1  Bangalore         Full Time       Web   \n",
       "22766   300000                  1  Bangalore         Full Time       Web   \n",
       "22767   192000                 13  Bangalore         Full Time       Web   \n",
       "22768   300000                  7  Bangalore         Full Time       Web   \n",
       "22769   300000                  7  Bangalore         Full Time       Web   \n",
       "\n",
       "       Salary USD  \n",
       "0        4829.200  \n",
       "1        4829.200  \n",
       "2       12073.000  \n",
       "3        3621.900  \n",
       "4        7243.800  \n",
       "...           ...  \n",
       "22765    2414.600  \n",
       "22766    3621.900  \n",
       "22767    2318.016  \n",
       "22768    3621.900  \n",
       "22769    3621.900  \n",
       "\n",
       "[22770 rows x 9 columns]"
      ]
     },
     "execution_count": 18,
     "metadata": {},
     "output_type": "execute_result"
    }
   ],
   "source": [
    "sps['Salary USD'] = sps['Salary'] * usd_inr\n",
    "sps"
   ]
  },
  {
   "cell_type": "code",
   "execution_count": 19,
   "id": "69d3f5af-6c74-4389-92e1-650d8281802d",
   "metadata": {},
   "outputs": [
    {
     "data": {
      "text/plain": [
       "0         4829\n",
       "1         4829\n",
       "2        12073\n",
       "3         3622\n",
       "4         7244\n",
       "         ...  \n",
       "22765     2415\n",
       "22766     3622\n",
       "22767     2318\n",
       "22768     3622\n",
       "22769     3622\n",
       "Name: Salary USD, Length: 22770, dtype: int64"
      ]
     },
     "execution_count": 19,
     "metadata": {},
     "output_type": "execute_result"
    }
   ],
   "source": [
    "'''\n",
    "PERCHE' SE ARROTONDO A ZERO TUTTO IL DATAFRAME MI FUNZIONA MENTRE SE ARROTONDO SOLO LA COLONNA \n",
    "SALARY USD INVECE NON MI FUNZIONA???????\n",
    "'''\n",
    "sps['Salary USD'].round(0).astype('int')"
   ]
  },
  {
   "attachments": {},
   "cell_type": "markdown",
   "id": "ad69ada3",
   "metadata": {},
   "source": [
    "### Non ho ben capito la domanda ma la funzione round può essere applicata solo a record di tipo float. Per questo motivo ti suggerisco di usare la funzione _round_ già presente in python; una cosa del genere:"
   ]
  },
  {
   "cell_type": "code",
   "execution_count": null,
   "id": "0af1fc4a",
   "metadata": {},
   "outputs": [],
   "source": [
    "sps['Salary USD'] = round((sps['Salary'] * usd_inr), 0)"
   ]
  },
  {
   "cell_type": "code",
   "execution_count": 20,
   "id": "b6283c00-09ef-4db8-ab72-3affb071b4f6",
   "metadata": {},
   "outputs": [
    {
     "data": {
      "text/html": [
       "<div>\n",
       "<style scoped>\n",
       "    .dataframe tbody tr th:only-of-type {\n",
       "        vertical-align: middle;\n",
       "    }\n",
       "\n",
       "    .dataframe tbody tr th {\n",
       "        vertical-align: top;\n",
       "    }\n",
       "\n",
       "    .dataframe thead th {\n",
       "        text-align: right;\n",
       "    }\n",
       "</style>\n",
       "<table border=\"1\" class=\"dataframe\">\n",
       "  <thead>\n",
       "    <tr style=\"text-align: right;\">\n",
       "      <th></th>\n",
       "      <th>Rating</th>\n",
       "      <th>Company Name</th>\n",
       "      <th>Job Title</th>\n",
       "      <th>Salary</th>\n",
       "      <th>Salaries Reported</th>\n",
       "      <th>Location</th>\n",
       "      <th>Employment Status</th>\n",
       "      <th>Job Roles</th>\n",
       "      <th>Salary USD</th>\n",
       "    </tr>\n",
       "  </thead>\n",
       "  <tbody>\n",
       "    <tr>\n",
       "      <th>0</th>\n",
       "      <td>3.8</td>\n",
       "      <td>Sasken</td>\n",
       "      <td>Android Developer</td>\n",
       "      <td>400000</td>\n",
       "      <td>3</td>\n",
       "      <td>Bangalore</td>\n",
       "      <td>Full Time</td>\n",
       "      <td>Android</td>\n",
       "      <td>4829.2</td>\n",
       "    </tr>\n",
       "    <tr>\n",
       "      <th>1</th>\n",
       "      <td>4.5</td>\n",
       "      <td>Advanced Millennium Technologies</td>\n",
       "      <td>Android Developer</td>\n",
       "      <td>400000</td>\n",
       "      <td>3</td>\n",
       "      <td>Bangalore</td>\n",
       "      <td>Full Time</td>\n",
       "      <td>Android</td>\n",
       "      <td>4829.2</td>\n",
       "    </tr>\n",
       "    <tr>\n",
       "      <th>2</th>\n",
       "      <td>4.0</td>\n",
       "      <td>Unacademy</td>\n",
       "      <td>Android Developer</td>\n",
       "      <td>1000000</td>\n",
       "      <td>3</td>\n",
       "      <td>Bangalore</td>\n",
       "      <td>Full Time</td>\n",
       "      <td>Android</td>\n",
       "      <td>12073.0</td>\n",
       "    </tr>\n",
       "    <tr>\n",
       "      <th>3</th>\n",
       "      <td>3.8</td>\n",
       "      <td>SnapBizz Cloudtech</td>\n",
       "      <td>Android Developer</td>\n",
       "      <td>300000</td>\n",
       "      <td>3</td>\n",
       "      <td>Bangalore</td>\n",
       "      <td>Full Time</td>\n",
       "      <td>Android</td>\n",
       "      <td>3621.9</td>\n",
       "    </tr>\n",
       "    <tr>\n",
       "      <th>4</th>\n",
       "      <td>4.4</td>\n",
       "      <td>Appoids Tech Solutions</td>\n",
       "      <td>Android Developer</td>\n",
       "      <td>600000</td>\n",
       "      <td>3</td>\n",
       "      <td>Bangalore</td>\n",
       "      <td>Full Time</td>\n",
       "      <td>Android</td>\n",
       "      <td>7243.8</td>\n",
       "    </tr>\n",
       "  </tbody>\n",
       "</table>\n",
       "</div>"
      ],
      "text/plain": [
       "   Rating                      Company Name          Job Title   Salary  \\\n",
       "0     3.8                            Sasken  Android Developer   400000   \n",
       "1     4.5  Advanced Millennium Technologies  Android Developer   400000   \n",
       "2     4.0                         Unacademy  Android Developer  1000000   \n",
       "3     3.8                SnapBizz Cloudtech  Android Developer   300000   \n",
       "4     4.4            Appoids Tech Solutions  Android Developer   600000   \n",
       "\n",
       "   Salaries Reported   Location Employment Status Job Roles  Salary USD  \n",
       "0                  3  Bangalore         Full Time   Android      4829.2  \n",
       "1                  3  Bangalore         Full Time   Android      4829.2  \n",
       "2                  3  Bangalore         Full Time   Android     12073.0  \n",
       "3                  3  Bangalore         Full Time   Android      3621.9  \n",
       "4                  3  Bangalore         Full Time   Android      7243.8  "
      ]
     },
     "execution_count": 20,
     "metadata": {},
     "output_type": "execute_result"
    }
   ],
   "source": [
    "sps.head()"
   ]
  },
  {
   "cell_type": "markdown",
   "id": "c457c816-0762-4727-a4dc-b89d0b12eea5",
   "metadata": {
    "id": "c457c816-0762-4727-a4dc-b89d0b12eea5"
   },
   "source": [
    "8. What is the average `Salary USD` for the \"Python\" `Job Role`? "
   ]
  },
  {
   "cell_type": "code",
   "execution_count": 21,
   "id": "fcc1f4be-7c64-4a1d-9153-2ae16183975e",
   "metadata": {
    "id": "fcc1f4be-7c64-4a1d-9153-2ae16183975e"
   },
   "outputs": [
    {
     "data": {
      "text/plain": [
       "5867.753167510029"
      ]
     },
     "execution_count": 21,
     "metadata": {},
     "output_type": "execute_result"
    }
   ],
   "source": [
    "salary_avg_for_python = sps[sps['Job Roles'] == 'Python']\n",
    "salary_avg_for_python['Salary USD'].mean()"
   ]
  },
  {
   "cell_type": "markdown",
   "id": "32420ea4-9878-47d9-a001-eef14914f481",
   "metadata": {
    "id": "32420ea4-9878-47d9-a001-eef14914f481"
   },
   "source": [
    "9. Which `Company Name` has the highest **average** `Salary USD` across all `Job Title`s? "
   ]
  },
  {
   "cell_type": "code",
   "execution_count": 22,
   "id": "b1ff1c06-087f-42bc-9e61-8aecc2a2d89c",
   "metadata": {
    "id": "b1ff1c06-087f-42bc-9e61-8aecc2a2d89c"
   },
   "outputs": [
    {
     "data": {
      "text/html": [
       "<div>\n",
       "<style scoped>\n",
       "    .dataframe tbody tr th:only-of-type {\n",
       "        vertical-align: middle;\n",
       "    }\n",
       "\n",
       "    .dataframe tbody tr th {\n",
       "        vertical-align: top;\n",
       "    }\n",
       "\n",
       "    .dataframe thead th {\n",
       "        text-align: right;\n",
       "    }\n",
       "</style>\n",
       "<table border=\"1\" class=\"dataframe\">\n",
       "  <thead>\n",
       "    <tr style=\"text-align: right;\">\n",
       "      <th></th>\n",
       "      <th>Company Name</th>\n",
       "      <th>Job Title</th>\n",
       "      <th>Rating</th>\n",
       "      <th>Salary USD</th>\n",
       "    </tr>\n",
       "  </thead>\n",
       "  <tbody>\n",
       "    <tr>\n",
       "      <th>0</th>\n",
       "      <td>Sasken</td>\n",
       "      <td>Android Developer</td>\n",
       "      <td>3.8</td>\n",
       "      <td>4829.200</td>\n",
       "    </tr>\n",
       "    <tr>\n",
       "      <th>1</th>\n",
       "      <td>Advanced Millennium Technologies</td>\n",
       "      <td>Android Developer</td>\n",
       "      <td>4.5</td>\n",
       "      <td>4829.200</td>\n",
       "    </tr>\n",
       "    <tr>\n",
       "      <th>2</th>\n",
       "      <td>Unacademy</td>\n",
       "      <td>Android Developer</td>\n",
       "      <td>4.0</td>\n",
       "      <td>12073.000</td>\n",
       "    </tr>\n",
       "    <tr>\n",
       "      <th>3</th>\n",
       "      <td>SnapBizz Cloudtech</td>\n",
       "      <td>Android Developer</td>\n",
       "      <td>3.8</td>\n",
       "      <td>3621.900</td>\n",
       "    </tr>\n",
       "    <tr>\n",
       "      <th>4</th>\n",
       "      <td>Appoids Tech Solutions</td>\n",
       "      <td>Android Developer</td>\n",
       "      <td>4.4</td>\n",
       "      <td>7243.800</td>\n",
       "    </tr>\n",
       "    <tr>\n",
       "      <th>...</th>\n",
       "      <td>...</td>\n",
       "      <td>...</td>\n",
       "      <td>...</td>\n",
       "      <td>...</td>\n",
       "    </tr>\n",
       "    <tr>\n",
       "      <th>22765</th>\n",
       "      <td>Expert Solutions</td>\n",
       "      <td>Web Developer</td>\n",
       "      <td>4.7</td>\n",
       "      <td>2414.600</td>\n",
       "    </tr>\n",
       "    <tr>\n",
       "      <th>22766</th>\n",
       "      <td>Nextgen Innovation Labs</td>\n",
       "      <td>Web Developer</td>\n",
       "      <td>4.0</td>\n",
       "      <td>3621.900</td>\n",
       "    </tr>\n",
       "    <tr>\n",
       "      <th>22767</th>\n",
       "      <td>Fresher</td>\n",
       "      <td>Full Stack Web Developer</td>\n",
       "      <td>4.1</td>\n",
       "      <td>2318.016</td>\n",
       "    </tr>\n",
       "    <tr>\n",
       "      <th>22768</th>\n",
       "      <td>Accenture</td>\n",
       "      <td>Full Stack Web Developer</td>\n",
       "      <td>4.1</td>\n",
       "      <td>3621.900</td>\n",
       "    </tr>\n",
       "    <tr>\n",
       "      <th>22769</th>\n",
       "      <td>Thomson Reuters</td>\n",
       "      <td>Associate Web Developer</td>\n",
       "      <td>3.8</td>\n",
       "      <td>3621.900</td>\n",
       "    </tr>\n",
       "  </tbody>\n",
       "</table>\n",
       "<p>22770 rows × 4 columns</p>\n",
       "</div>"
      ],
      "text/plain": [
       "                           Company Name                 Job Title  Rating  \\\n",
       "0                                Sasken         Android Developer     3.8   \n",
       "1      Advanced Millennium Technologies         Android Developer     4.5   \n",
       "2                             Unacademy         Android Developer     4.0   \n",
       "3                    SnapBizz Cloudtech         Android Developer     3.8   \n",
       "4                Appoids Tech Solutions         Android Developer     4.4   \n",
       "...                                 ...                       ...     ...   \n",
       "22765                  Expert Solutions             Web Developer     4.7   \n",
       "22766           Nextgen Innovation Labs             Web Developer     4.0   \n",
       "22767                           Fresher  Full Stack Web Developer     4.1   \n",
       "22768                         Accenture  Full Stack Web Developer     4.1   \n",
       "22769                   Thomson Reuters   Associate Web Developer     3.8   \n",
       "\n",
       "       Salary USD  \n",
       "0        4829.200  \n",
       "1        4829.200  \n",
       "2       12073.000  \n",
       "3        3621.900  \n",
       "4        7243.800  \n",
       "...           ...  \n",
       "22765    2414.600  \n",
       "22766    3621.900  \n",
       "22767    2318.016  \n",
       "22768    3621.900  \n",
       "22769    3621.900  \n",
       "\n",
       "[22770 rows x 4 columns]"
      ]
     },
     "execution_count": 22,
     "metadata": {},
     "output_type": "execute_result"
    }
   ],
   "source": [
    "company_avg_salary = sps[['Company Name', 'Job Title', 'Rating', 'Salary USD']]\n",
    "company_avg_salary"
   ]
  },
  {
   "cell_type": "code",
   "execution_count": 23,
   "id": "a28d1838-b8b1-4966-99cd-fa0cc8744f53",
   "metadata": {},
   "outputs": [
    {
     "data": {
      "text/html": [
       "<div>\n",
       "<style scoped>\n",
       "    .dataframe tbody tr th:only-of-type {\n",
       "        vertical-align: middle;\n",
       "    }\n",
       "\n",
       "    .dataframe tbody tr th {\n",
       "        vertical-align: top;\n",
       "    }\n",
       "\n",
       "    .dataframe thead th {\n",
       "        text-align: right;\n",
       "    }\n",
       "</style>\n",
       "<table border=\"1\" class=\"dataframe\">\n",
       "  <thead>\n",
       "    <tr style=\"text-align: right;\">\n",
       "      <th></th>\n",
       "      <th>Rating</th>\n",
       "      <th>Salary USD</th>\n",
       "    </tr>\n",
       "    <tr>\n",
       "      <th>Company Name</th>\n",
       "      <th></th>\n",
       "      <th></th>\n",
       "    </tr>\n",
       "  </thead>\n",
       "  <tbody>\n",
       "    <tr>\n",
       "      <th>10</th>\n",
       "      <td>4.0</td>\n",
       "      <td>8257.932</td>\n",
       "    </tr>\n",
       "    <tr>\n",
       "      <th>700</th>\n",
       "      <td>3.9</td>\n",
       "      <td>8402.808</td>\n",
       "    </tr>\n",
       "    <tr>\n",
       "      <th>1985</th>\n",
       "      <td>3.3</td>\n",
       "      <td>3766.776</td>\n",
       "    </tr>\n",
       "    <tr>\n",
       "      <th>2018</th>\n",
       "      <td>3.8</td>\n",
       "      <td>8547.684</td>\n",
       "    </tr>\n",
       "    <tr>\n",
       "      <th>17544</th>\n",
       "      <td>3.9</td>\n",
       "      <td>22938.700</td>\n",
       "    </tr>\n",
       "    <tr>\n",
       "      <th>...</th>\n",
       "      <td>...</td>\n",
       "      <td>...</td>\n",
       "    </tr>\n",
       "    <tr>\n",
       "      <th>zekeLabs</th>\n",
       "      <td>4.4</td>\n",
       "      <td>1159.008</td>\n",
       "    </tr>\n",
       "    <tr>\n",
       "      <th>Ás Formaturas</th>\n",
       "      <td>3.6</td>\n",
       "      <td>10865.700</td>\n",
       "    </tr>\n",
       "    <tr>\n",
       "      <th>Órama</th>\n",
       "      <td>3.5</td>\n",
       "      <td>14487.600</td>\n",
       "    </tr>\n",
       "    <tr>\n",
       "      <th>​App-Scoop</th>\n",
       "      <td>4.5</td>\n",
       "      <td>6036.500</td>\n",
       "    </tr>\n",
       "    <tr>\n",
       "      <th>‎eNotice Ninja Pluss</th>\n",
       "      <td>3.8</td>\n",
       "      <td>4829.200</td>\n",
       "    </tr>\n",
       "  </tbody>\n",
       "</table>\n",
       "<p>11261 rows × 2 columns</p>\n",
       "</div>"
      ],
      "text/plain": [
       "                      Rating  Salary USD\n",
       "Company Name                            \n",
       "10                       4.0    8257.932\n",
       "700                      3.9    8402.808\n",
       "1985                     3.3    3766.776\n",
       "2018                     3.8    8547.684\n",
       "17544                    3.9   22938.700\n",
       "...                      ...         ...\n",
       "zekeLabs                 4.4    1159.008\n",
       "Ás Formaturas            3.6   10865.700\n",
       "Órama                    3.5   14487.600\n",
       "​App-Scoop               4.5    6036.500\n",
       "‎eNotice Ninja Pluss     3.8    4829.200\n",
       "\n",
       "[11261 rows x 2 columns]"
      ]
     },
     "execution_count": 23,
     "metadata": {},
     "output_type": "execute_result"
    }
   ],
   "source": [
    "company_avg_salary2 = pd.DataFrame(company_avg_salary.groupby('Company Name')[['Rating', 'Salary USD']].mean())\n",
    "company_avg_salary2"
   ]
  },
  {
   "cell_type": "code",
   "execution_count": 24,
   "id": "7c998bad-ee88-460f-a7be-8d2084c7949b",
   "metadata": {},
   "outputs": [
    {
     "data": {
      "text/html": [
       "<div>\n",
       "<style scoped>\n",
       "    .dataframe tbody tr th:only-of-type {\n",
       "        vertical-align: middle;\n",
       "    }\n",
       "\n",
       "    .dataframe tbody tr th {\n",
       "        vertical-align: top;\n",
       "    }\n",
       "\n",
       "    .dataframe thead th {\n",
       "        text-align: right;\n",
       "    }\n",
       "</style>\n",
       "<table border=\"1\" class=\"dataframe\">\n",
       "  <thead>\n",
       "    <tr style=\"text-align: right;\">\n",
       "      <th></th>\n",
       "      <th>Rating</th>\n",
       "      <th>Salary USD</th>\n",
       "    </tr>\n",
       "    <tr>\n",
       "      <th>Company Name</th>\n",
       "      <th></th>\n",
       "      <th></th>\n",
       "    </tr>\n",
       "  </thead>\n",
       "  <tbody>\n",
       "    <tr>\n",
       "      <th>Thapar University</th>\n",
       "      <td>3.6</td>\n",
       "      <td>1.086570e+06</td>\n",
       "    </tr>\n",
       "    <tr>\n",
       "      <th>Digital Raju</th>\n",
       "      <td>4.3</td>\n",
       "      <td>1.183154e+05</td>\n",
       "    </tr>\n",
       "    <tr>\n",
       "      <th>FFF Enterprises</th>\n",
       "      <td>4.2</td>\n",
       "      <td>1.183154e+05</td>\n",
       "    </tr>\n",
       "    <tr>\n",
       "      <th>Gaana Lyrics Point.com</th>\n",
       "      <td>5.0</td>\n",
       "      <td>1.171081e+05</td>\n",
       "    </tr>\n",
       "    <tr>\n",
       "      <th>GGH Heavy Industries</th>\n",
       "      <td>4.6</td>\n",
       "      <td>1.159008e+05</td>\n",
       "    </tr>\n",
       "    <tr>\n",
       "      <th>...</th>\n",
       "      <td>...</td>\n",
       "      <td>...</td>\n",
       "    </tr>\n",
       "    <tr>\n",
       "      <th>Nasya Software Technologies</th>\n",
       "      <td>4.0</td>\n",
       "      <td>1.448760e+02</td>\n",
       "    </tr>\n",
       "    <tr>\n",
       "      <th>....</th>\n",
       "      <td>4.0</td>\n",
       "      <td>1.448760e+02</td>\n",
       "    </tr>\n",
       "    <tr>\n",
       "      <th>Scholify</th>\n",
       "      <td>4.1</td>\n",
       "      <td>1.448760e+02</td>\n",
       "    </tr>\n",
       "    <tr>\n",
       "      <th>Excel Engineering Services</th>\n",
       "      <td>4.4</td>\n",
       "      <td>1.448760e+02</td>\n",
       "    </tr>\n",
       "    <tr>\n",
       "      <th>Keeves Technologies</th>\n",
       "      <td>2.6</td>\n",
       "      <td>2.549818e+01</td>\n",
       "    </tr>\n",
       "  </tbody>\n",
       "</table>\n",
       "<p>11261 rows × 2 columns</p>\n",
       "</div>"
      ],
      "text/plain": [
       "                             Rating    Salary USD\n",
       "Company Name                                     \n",
       "Thapar University               3.6  1.086570e+06\n",
       "Digital Raju                    4.3  1.183154e+05\n",
       "FFF Enterprises                 4.2  1.183154e+05\n",
       "Gaana Lyrics Point.com          5.0  1.171081e+05\n",
       "GGH Heavy Industries            4.6  1.159008e+05\n",
       "...                             ...           ...\n",
       "Nasya Software Technologies     4.0  1.448760e+02\n",
       "....                            4.0  1.448760e+02\n",
       "Scholify                        4.1  1.448760e+02\n",
       "Excel Engineering Services      4.4  1.448760e+02\n",
       "Keeves Technologies             2.6  2.549818e+01\n",
       "\n",
       "[11261 rows x 2 columns]"
      ]
     },
     "execution_count": 24,
     "metadata": {},
     "output_type": "execute_result"
    }
   ],
   "source": [
    "company_avg_salary2.sort_values('Salary USD', ascending=False)"
   ]
  },
  {
   "cell_type": "markdown",
   "id": "305fe38f-9332-4ba9-8b01-25ec9db92793",
   "metadata": {
    "id": "305fe38f-9332-4ba9-8b01-25ec9db92793"
   },
   "source": [
    "10. Create a Plot that shows the **relationship** between the average `Salary USD` and the average `Rating` for each `Company Name`. Do you see any anomaly in the plot? Which is the `Company Name` that is causing this oddity?"
   ]
  },
  {
   "cell_type": "code",
   "execution_count": 25,
   "id": "6d8e44ba-6050-44e9-8309-2f74392bdedc",
   "metadata": {},
   "outputs": [],
   "source": [
    "#company_avg_salary2.rename(columns={\"Rating\": \"Rating_avg\", \"Salary USD\": \"Salary_USD_avg\"})"
   ]
  },
  {
   "cell_type": "code",
   "execution_count": 31,
   "id": "e17c52ce-2d16-4c73-962f-2448cf1a1374",
   "metadata": {},
   "outputs": [
    {
     "data": {
      "image/png": "[encoded data removed]",
      "text/plain": [
       "<Figure size 640x480 with 1 Axes>"
      ]
     },
     "metadata": {},
     "output_type": "display_data"
    }
   ],
   "source": [
    "plt.scatter('Rating', 'Salary USD', data=sps)\n",
    "plt.xlabel('Rating')\n",
    "plt.ylabel('Salary USD')\n",
    "plt.title('Relationship between Salary USD and Rating average')\n",
    "plt.show()"
   ]
  },
  {
   "cell_type": "code",
   "execution_count": 42,
   "id": "523b8f26-c417-48b1-ba01-ba3b62168a9a",
   "metadata": {},
   "outputs": [
    {
     "data": {
      "text/html": [
       "<div>\n",
       "<style scoped>\n",
       "    .dataframe tbody tr th:only-of-type {\n",
       "        vertical-align: middle;\n",
       "    }\n",
       "\n",
       "    .dataframe tbody tr th {\n",
       "        vertical-align: top;\n",
       "    }\n",
       "\n",
       "    .dataframe thead th {\n",
       "        text-align: right;\n",
       "    }\n",
       "</style>\n",
       "<table border=\"1\" class=\"dataframe\">\n",
       "  <thead>\n",
       "    <tr style=\"text-align: right;\">\n",
       "      <th></th>\n",
       "      <th>Company Name</th>\n",
       "      <th>Rating</th>\n",
       "      <th>Salary USD</th>\n",
       "    </tr>\n",
       "  </thead>\n",
       "  <tbody>\n",
       "    <tr>\n",
       "      <th>660</th>\n",
       "      <td>Amazon</td>\n",
       "      <td>3.800000</td>\n",
       "      <td>2.624006e+06</td>\n",
       "    </tr>\n",
       "    <tr>\n",
       "      <th>9161</th>\n",
       "      <td>Tata Consultancy Services</td>\n",
       "      <td>3.899631</td>\n",
       "      <td>1.675547e+06</td>\n",
       "    </tr>\n",
       "    <tr>\n",
       "      <th>5832</th>\n",
       "      <td>Microsoft</td>\n",
       "      <td>4.400000</td>\n",
       "      <td>1.674629e+06</td>\n",
       "    </tr>\n",
       "    <tr>\n",
       "      <th>313</th>\n",
       "      <td>Accenture</td>\n",
       "      <td>4.100000</td>\n",
       "      <td>1.119384e+06</td>\n",
       "    </tr>\n",
       "    <tr>\n",
       "      <th>9414</th>\n",
       "      <td>Thapar University</td>\n",
       "      <td>3.600000</td>\n",
       "      <td>1.086570e+06</td>\n",
       "    </tr>\n",
       "    <tr>\n",
       "      <th>...</th>\n",
       "      <td>...</td>\n",
       "      <td>...</td>\n",
       "      <td>...</td>\n",
       "    </tr>\n",
       "    <tr>\n",
       "      <th>8168</th>\n",
       "      <td>Scholify</td>\n",
       "      <td>4.100000</td>\n",
       "      <td>1.448760e+02</td>\n",
       "    </tr>\n",
       "    <tr>\n",
       "      <th>341</th>\n",
       "      <td>Acmatics Technologies</td>\n",
       "      <td>3.500000</td>\n",
       "      <td>1.448760e+02</td>\n",
       "    </tr>\n",
       "    <tr>\n",
       "      <th>10316</th>\n",
       "      <td>Webboombaa</td>\n",
       "      <td>4.300000</td>\n",
       "      <td>1.448760e+02</td>\n",
       "    </tr>\n",
       "    <tr>\n",
       "      <th>9</th>\n",
       "      <td>....</td>\n",
       "      <td>4.000000</td>\n",
       "      <td>1.448760e+02</td>\n",
       "    </tr>\n",
       "    <tr>\n",
       "      <th>4999</th>\n",
       "      <td>Keeves Technologies</td>\n",
       "      <td>2.600000</td>\n",
       "      <td>2.549818e+01</td>\n",
       "    </tr>\n",
       "  </tbody>\n",
       "</table>\n",
       "<p>11261 rows × 3 columns</p>\n",
       "</div>"
      ],
      "text/plain": [
       "                    Company Name    Rating    Salary USD\n",
       "660                       Amazon  3.800000  2.624006e+06\n",
       "9161   Tata Consultancy Services  3.899631  1.675547e+06\n",
       "5832                   Microsoft  4.400000  1.674629e+06\n",
       "313                    Accenture  4.100000  1.119384e+06\n",
       "9414           Thapar University  3.600000  1.086570e+06\n",
       "...                          ...       ...           ...\n",
       "8168                    Scholify  4.100000  1.448760e+02\n",
       "341        Acmatics Technologies  3.500000  1.448760e+02\n",
       "10316                 Webboombaa  4.300000  1.448760e+02\n",
       "9                           ....  4.000000  1.448760e+02\n",
       "4999         Keeves Technologies  2.600000  2.549818e+01\n",
       "\n",
       "[11261 rows x 3 columns]"
      ]
     },
     "execution_count": 42,
     "metadata": {},
     "output_type": "execute_result"
    }
   ],
   "source": [
    "sps.groupby('Company Name', as_index=False).agg({'Rating':'mean', 'Salary USD':'sum'}).sort_values('Salary USD', ascending=False)"
   ]
  },
  {
   "cell_type": "code",
   "execution_count": 27,
   "id": "b8bec43d-e7c2-4c38-9a5a-e58466994b69",
   "metadata": {},
   "outputs": [],
   "source": [
    "#It looks to be Amazon the Company out of range in the above relationship in a relation with the other Companies"
   ]
  }
 ],
 "metadata": {
  "colab": {
   "provenance": []
  },
  "kernelspec": {
   "display_name": "base",
   "language": "python",
   "name": "python3"
  },
  "language_info": {
   "codemirror_mode": {
    "name": "ipython",
    "version": 3
   },
   "file_extension": ".py",
   "mimetype": "text/x-python",
   "name": "python",
   "nbconvert_exporter": "python",
   "pygments_lexer": "ipython3",
   "version": "3.9.15 (main, Nov 24 2022, 14:31:59) \n[GCC 11.2.0]"
  },
  "vscode": {
   "interpreter": {
    "hash": "b99b042ff1e9a5e583778e6b1f08374ac7aca5e7b8f9c0b6224a86eeb42b693d"
   }
  }
 },
 "nbformat": 4,
 "nbformat_minor": 5
}
